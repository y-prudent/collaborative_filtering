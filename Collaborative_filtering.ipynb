{
 "cells": [
  {
   "cell_type": "markdown",
   "metadata": {},
   "source": [
    "<b>Yannick PRUDENT</b>\n",
    "\n",
    "<center><h1>Collaborative filtering recommander systems</h1></center>\n",
    "\n",
    "___\n",
    "\n",
    "Sources:\n",
    "<p>\n",
    "<a id=\"doc_01\">[1]</a> \n",
    "Ekstrand, Michael D. « <a href=http://files.grouplens.org/papers/FnT%20CF%20Recsys%20Survey.pdf>Collaborative Filtering Recommender Systems</a> ». Foundations and Trends® in Human–Computer Interaction 4, nᵒ 2 (2011): 81‑173.<br>\n",
    "<a id=\"doc_02\">[2]</a>\n",
    "<a href=https://www.lri.fr/~antoine/Courses/Master-ISI/section-app-collaboratif.pdf>Apprentissage pour le filtrage collaboratif</a>. (n.d).<br>\n",
    "<a id=\"doc_03\">[3]</a>\n",
    "Anand, A. (2020, October 3). <a href=https://towardsdatascience.com/user-user-collaborative-filtering-for-jokes-recommendation-b6b1e4ec8642>User-User Collaborative Filtering For Jokes Recommendation</a> - Towards Data Science.<br>\n",
    "<a id=\"doc_04\">[4]</a>\n",
    "Grover, P. (2020, July 16). <a href=https://towardsdatascience.com/various-implementations-of-collaborative-filtering-100385c6dfe0>Various Implementations of Collaborative Filtering</a> - Towards Data Science.<br>\n",
    "<a id=\"doc_05\">[5]</a>\n",
    "<a href=https://surprise.readthedocs.io/en/v1.1.1/matrix_factorization.html#surprise.prediction_algorithms.matrix_factorization>Matrix Factorization-based algorithms</a> - scikit-surprise (python library) documentation.<br> \n",
    "<a id=\"doc_06\">[6]</a>\n",
    "Malaeb, M. (2018, June 15). <a href=https://medium.com/@m_n_malaeb/singular-value-decomposition-svd-in-recommender-systems-for-non-math-statistics-programming-4a622de653e9>Singular Value decomposition (SVD) in recommender systems for Non-math-statistics-programming wizards</a> - Medium.\n",
    "</p>"
   ]
  },
  {
   "attachments": {},
   "cell_type": "markdown",
   "metadata": {},
   "source": [
    "# Introduction\n",
    "\n",
    "<h3><b><span style='color:red'>(Explanation of the collaborative filtering principle and the different approaches)</span></b></h3>\n",
    "\n",
    "<img src=https://miro.medium.com/max/1400/1*7uW5hLXztSu_FOmZOWpB6g.png width=\"500\">\n",
    "\n",
    "\n",
    "# 1 - Memory based approach\n",
    "\n",
    "$\\quad \\rightarrow$ <span style='color:green'><b>User-user filtering</b></span>\n",
    "\n",
    "$\\quad \\rightarrow$ <span style='color:#D08000'><b>Item-item filtering</b></span> (similar to user-user)\n",
    "\n",
    "We will be using the **user-user filtering approach**.\n",
    "\n",
    "## 1.1 User-user filtering [[1]](#doc_01) [[2]](#doc_02) [[3]](#doc_03)\n",
    "\n",
    "### 1.1.0 - The Jester dataset\n",
    "\n",
    "We will use the joke \"**Dataset 1**\" of the **Jester Research project** (UC Berkeley Laboratory for Automation Science and Engineering). [(link here)](http://eigentaste.berkeley.edu/dataset/)\n",
    "\n",
    "- It consists in ratings for **100 jokes** from **24,983 readers** who have rated 36 or more jokes \n",
    "- The rating values are ranging **from -10.00 to +10.00** (the value \"99\" corresponds to \"null\" = \"not rated\")\n",
    "\n",
    "### 1.1.1 - Import the dataset"
   ]
  },
  {
   "cell_type": "code",
   "execution_count": 1,
   "metadata": {},
   "outputs": [],
   "source": [
    "import os\n",
    "import pandas as pd\n",
    "import numpy as np\n",
    "\n",
    "jokes_dir_path = os.path.abspath('data/jester_dataset')\n",
    "\n",
    "# Import data\n",
    "df = pd.read_excel(os.path.join(jokes_dir_path, 'jester-data-1.xls'), header=None)\n",
    "\n",
    "n_ratings_s = df.iloc[:,0]  # Number of ratings per user\n",
    "rating_df = df.drop(labels=[0], axis=1)  # Rating matrix\n",
    "\n",
    "# Fill '99' values with NaN\n",
    "rating_df = rating_df.replace({99: np.NaN})\n",
    "\n",
    "# Rename the columns\n",
    "rating_df.rename(columns={c:f'joke_{c}' for c in rating_df.columns},\n",
    "                     inplace=True)"
   ]
  },
  {
   "cell_type": "markdown",
   "metadata": {},
   "source": [
    "For the example, we will only use the 10 first jokes for the 10 first users."
   ]
  },
  {
   "cell_type": "code",
   "execution_count": 2,
   "metadata": {},
   "outputs": [
    {
     "data": {
      "text/html": [
       "<div>\n",
       "<style scoped>\n",
       "    .dataframe tbody tr th:only-of-type {\n",
       "        vertical-align: middle;\n",
       "    }\n",
       "\n",
       "    .dataframe tbody tr th {\n",
       "        vertical-align: top;\n",
       "    }\n",
       "\n",
       "    .dataframe thead th {\n",
       "        text-align: right;\n",
       "    }\n",
       "</style>\n",
       "<table border=\"1\" class=\"dataframe\">\n",
       "  <thead>\n",
       "    <tr style=\"text-align: right;\">\n",
       "      <th></th>\n",
       "      <th>joke_1</th>\n",
       "      <th>joke_2</th>\n",
       "      <th>joke_3</th>\n",
       "      <th>joke_4</th>\n",
       "      <th>joke_5</th>\n",
       "      <th>joke_6</th>\n",
       "      <th>joke_7</th>\n",
       "      <th>joke_8</th>\n",
       "      <th>joke_9</th>\n",
       "      <th>joke_10</th>\n",
       "    </tr>\n",
       "  </thead>\n",
       "  <tbody>\n",
       "    <tr>\n",
       "      <th>0</th>\n",
       "      <td>-7.82</td>\n",
       "      <td>8.79</td>\n",
       "      <td>-9.66</td>\n",
       "      <td>-8.16</td>\n",
       "      <td>-7.52</td>\n",
       "      <td>-8.50</td>\n",
       "      <td>-9.85</td>\n",
       "      <td>4.17</td>\n",
       "      <td>-8.98</td>\n",
       "      <td>-4.76</td>\n",
       "    </tr>\n",
       "    <tr>\n",
       "      <th>1</th>\n",
       "      <td>4.08</td>\n",
       "      <td>-0.29</td>\n",
       "      <td>6.36</td>\n",
       "      <td>4.37</td>\n",
       "      <td>-2.38</td>\n",
       "      <td>-9.66</td>\n",
       "      <td>-0.73</td>\n",
       "      <td>-5.34</td>\n",
       "      <td>8.88</td>\n",
       "      <td>9.22</td>\n",
       "    </tr>\n",
       "    <tr>\n",
       "      <th>2</th>\n",
       "      <td>NaN</td>\n",
       "      <td>NaN</td>\n",
       "      <td>NaN</td>\n",
       "      <td>NaN</td>\n",
       "      <td>9.03</td>\n",
       "      <td>9.27</td>\n",
       "      <td>9.03</td>\n",
       "      <td>9.27</td>\n",
       "      <td>NaN</td>\n",
       "      <td>NaN</td>\n",
       "    </tr>\n",
       "    <tr>\n",
       "      <th>3</th>\n",
       "      <td>NaN</td>\n",
       "      <td>8.35</td>\n",
       "      <td>NaN</td>\n",
       "      <td>NaN</td>\n",
       "      <td>1.80</td>\n",
       "      <td>8.16</td>\n",
       "      <td>-2.82</td>\n",
       "      <td>6.21</td>\n",
       "      <td>NaN</td>\n",
       "      <td>1.84</td>\n",
       "    </tr>\n",
       "    <tr>\n",
       "      <th>4</th>\n",
       "      <td>8.50</td>\n",
       "      <td>4.61</td>\n",
       "      <td>-4.17</td>\n",
       "      <td>-5.39</td>\n",
       "      <td>1.36</td>\n",
       "      <td>1.60</td>\n",
       "      <td>7.04</td>\n",
       "      <td>4.61</td>\n",
       "      <td>-0.44</td>\n",
       "      <td>5.73</td>\n",
       "    </tr>\n",
       "  </tbody>\n",
       "</table>\n",
       "</div>"
      ],
      "text/plain": [
       "   joke_1  joke_2  joke_3  joke_4  joke_5  joke_6  joke_7  joke_8  joke_9  \\\n",
       "0   -7.82    8.79   -9.66   -8.16   -7.52   -8.50   -9.85    4.17   -8.98   \n",
       "1    4.08   -0.29    6.36    4.37   -2.38   -9.66   -0.73   -5.34    8.88   \n",
       "2     NaN     NaN     NaN     NaN    9.03    9.27    9.03    9.27     NaN   \n",
       "3     NaN    8.35     NaN     NaN    1.80    8.16   -2.82    6.21     NaN   \n",
       "4    8.50    4.61   -4.17   -5.39    1.36    1.60    7.04    4.61   -0.44   \n",
       "\n",
       "   joke_10  \n",
       "0    -4.76  \n",
       "1     9.22  \n",
       "2      NaN  \n",
       "3     1.84  \n",
       "4     5.73  "
      ]
     },
     "execution_count": 2,
     "metadata": {},
     "output_type": "execute_result"
    }
   ],
   "source": [
    "n_users = 10\n",
    "n_jokes = 10\n",
    "\n",
    "# We keep the 10 first jokes and the 10 first users\n",
    "data = rating_df.iloc[:n_users, :n_jokes]\n",
    "data.head()"
   ]
  },
  {
   "cell_type": "markdown",
   "metadata": {},
   "source": [
    "### 1.1.2 - Normalization\n",
    "\n",
    "We will normalize the data by subtracting the mean rating of each user, and then by filling the NaN with zeros.\n",
    "\n",
    "$$\\hat{r}_{u, i} \\leftarrow r_{u, i} - \\bar{r}_u, \\qquad \\forall (u, i) \\in (U, I)$$"
   ]
  },
  {
   "cell_type": "code",
   "execution_count": 3,
   "metadata": {},
   "outputs": [
    {
     "data": {
      "text/html": [
       "<div>\n",
       "<style scoped>\n",
       "    .dataframe tbody tr th:only-of-type {\n",
       "        vertical-align: middle;\n",
       "    }\n",
       "\n",
       "    .dataframe tbody tr th {\n",
       "        vertical-align: top;\n",
       "    }\n",
       "\n",
       "    .dataframe thead th {\n",
       "        text-align: right;\n",
       "    }\n",
       "</style>\n",
       "<table border=\"1\" class=\"dataframe\">\n",
       "  <thead>\n",
       "    <tr style=\"text-align: right;\">\n",
       "      <th></th>\n",
       "      <th>joke_1</th>\n",
       "      <th>joke_2</th>\n",
       "      <th>joke_3</th>\n",
       "      <th>joke_4</th>\n",
       "      <th>joke_5</th>\n",
       "      <th>joke_6</th>\n",
       "      <th>joke_7</th>\n",
       "      <th>joke_8</th>\n",
       "      <th>joke_9</th>\n",
       "      <th>joke_10</th>\n",
       "    </tr>\n",
       "  </thead>\n",
       "  <tbody>\n",
       "    <tr>\n",
       "      <th>0</th>\n",
       "      <td>-2.591</td>\n",
       "      <td>14.019000</td>\n",
       "      <td>-4.431</td>\n",
       "      <td>-2.931</td>\n",
       "      <td>-2.291000</td>\n",
       "      <td>-3.271000</td>\n",
       "      <td>-4.621000</td>\n",
       "      <td>9.399000</td>\n",
       "      <td>-3.751</td>\n",
       "      <td>0.469000</td>\n",
       "    </tr>\n",
       "    <tr>\n",
       "      <th>1</th>\n",
       "      <td>2.629</td>\n",
       "      <td>-1.741000</td>\n",
       "      <td>4.909</td>\n",
       "      <td>2.919</td>\n",
       "      <td>-3.831000</td>\n",
       "      <td>-11.111000</td>\n",
       "      <td>-2.181000</td>\n",
       "      <td>-6.791000</td>\n",
       "      <td>7.429</td>\n",
       "      <td>7.769000</td>\n",
       "    </tr>\n",
       "    <tr>\n",
       "      <th>2</th>\n",
       "      <td>0.000</td>\n",
       "      <td>0.000000</td>\n",
       "      <td>0.000</td>\n",
       "      <td>0.000</td>\n",
       "      <td>-0.120000</td>\n",
       "      <td>0.120000</td>\n",
       "      <td>-0.120000</td>\n",
       "      <td>0.120000</td>\n",
       "      <td>0.000</td>\n",
       "      <td>0.000000</td>\n",
       "    </tr>\n",
       "    <tr>\n",
       "      <th>3</th>\n",
       "      <td>0.000</td>\n",
       "      <td>4.426667</td>\n",
       "      <td>0.000</td>\n",
       "      <td>0.000</td>\n",
       "      <td>-2.123333</td>\n",
       "      <td>4.236667</td>\n",
       "      <td>-6.743333</td>\n",
       "      <td>2.286667</td>\n",
       "      <td>0.000</td>\n",
       "      <td>-2.083333</td>\n",
       "    </tr>\n",
       "    <tr>\n",
       "      <th>4</th>\n",
       "      <td>6.155</td>\n",
       "      <td>2.265000</td>\n",
       "      <td>-6.515</td>\n",
       "      <td>-7.735</td>\n",
       "      <td>-0.985000</td>\n",
       "      <td>-0.745000</td>\n",
       "      <td>4.695000</td>\n",
       "      <td>2.265000</td>\n",
       "      <td>-2.785</td>\n",
       "      <td>3.385000</td>\n",
       "    </tr>\n",
       "  </tbody>\n",
       "</table>\n",
       "</div>"
      ],
      "text/plain": [
       "   joke_1     joke_2  joke_3  joke_4    joke_5     joke_6    joke_7    joke_8  \\\n",
       "0  -2.591  14.019000  -4.431  -2.931 -2.291000  -3.271000 -4.621000  9.399000   \n",
       "1   2.629  -1.741000   4.909   2.919 -3.831000 -11.111000 -2.181000 -6.791000   \n",
       "2   0.000   0.000000   0.000   0.000 -0.120000   0.120000 -0.120000  0.120000   \n",
       "3   0.000   4.426667   0.000   0.000 -2.123333   4.236667 -6.743333  2.286667   \n",
       "4   6.155   2.265000  -6.515  -7.735 -0.985000  -0.745000  4.695000  2.265000   \n",
       "\n",
       "   joke_9   joke_10  \n",
       "0  -3.751  0.469000  \n",
       "1   7.429  7.769000  \n",
       "2   0.000  0.000000  \n",
       "3   0.000 -2.083333  \n",
       "4  -2.785  3.385000  "
      ]
     },
     "execution_count": 3,
     "metadata": {},
     "output_type": "execute_result"
    }
   ],
   "source": [
    "def normalize(df):\n",
    "    df = df.subtract(df.mean(axis=1), axis='rows')\n",
    "    return df.fillna(0)\n",
    "\n",
    "norm_data = normalize(data)\n",
    "\n",
    "norm_data.head()"
   ]
  },
  {
   "cell_type": "markdown",
   "metadata": {},
   "source": [
    "### 1.1.3 - Computing similarities\n",
    "\n",
    "We need to compute the similarities between each user. Several different similarity functions have been proposed and evaluated in the literature: \n",
    "\n",
    "#### 1.1.3.1 - Pearson correlation\n",
    "\n",
    "This method computes the statistical correlation (Pearson’s r) between two user’s common ratings to determine their similarity.\n",
    "\n",
    "$$s(u, u') =  \\frac{\\sum_{i \\in I_u \\cap I_{u'}} (r_{u,i}-\\bar{r}_u)(r_{u',i}-\\bar{r}_{u'})}\n",
    "            {\\sqrt{\\sum_{i \\in I_u \\cap I_{u'}} (r_{u,i}-\\bar{r}_u)^2}\n",
    "            \\sqrt{\\sum_{i \\in I_u \\cap I_{u'}} (r_{u',i}-\\bar{r}_{u'})^2}}$$\n",
    "\n",
    "#### 1.1.3.2 - Spearman rank correlation\n",
    "\n",
    "For the Spearman correlation, the items a user has rated are ranked such that their highest-rated item is at rank 1 and lower-rated items have higher ranks. Items with the same rating are assigned the average rank for their position. The computation is then the same as that of the Pearson correlation, except that ranks are used in place of ratings.\n",
    "\n",
    "#### 1.1.3.3 - Cosine similarity\n",
    "\n",
    "$$s(u, u') = \\frac{\\textbf{r}_u \\cdot \\textbf{r}_{u'}}\n",
    "              {\\lVert \\textbf{r}_u \\lVert_2 \\lVert \\textbf{r}_{u'} \\lVert_2}\n",
    "           = \\frac{\\sum_i r_{u,i} r_{u',i}}\n",
    "              {\\sqrt{\\sum_i r^2_{u,i}} \\sqrt{\\sum_i r^2_{u',i}}}$$\n",
    "              \n",
    "Now let's compute these similarity functions."
   ]
  },
  {
   "cell_type": "code",
   "execution_count": 4,
   "metadata": {},
   "outputs": [],
   "source": [
    "import scipy.stats\n",
    "\n",
    "# Pearson similarity\n",
    "def similarity_pearson(x, y):\n",
    "    return scipy.stats.pearsonr(x, y)[0]\n",
    "\n",
    "# Spearman similarity\n",
    "def similarity_spearman(x, y):\n",
    "    return scipy.stats.spearmanr(x, y)[0]\n",
    "\n",
    "# Cosine similarity\n",
    "def similarity_cosine(x, y):\n",
    "    return np.dot(x, y) / (np.linalg.norm(x) * np.linalg.norm(y))\n",
    "\n",
    "\n",
    "similarities = {'pearson': similarity_pearson,\n",
    "                'spearman': similarity_spearman,\n",
    "                'cosine': similarity_cosine}"
   ]
  },
  {
   "cell_type": "markdown",
   "metadata": {},
   "source": [
    "Let's visualize the similarity matrixes for the different similarity functions."
   ]
  },
  {
   "cell_type": "code",
   "execution_count": 5,
   "metadata": {},
   "outputs": [
    {
     "data": {
      "image/png": "[encoded data removed]",
      "text/plain": [
       "<Figure size 864x360 with 6 Axes>"
      ]
     },
     "metadata": {
      "needs_background": "light"
     },
     "output_type": "display_data"
    }
   ],
   "source": [
    "import matplotlib.pyplot as plt\n",
    "\n",
    "def compute_similarity_matrix(similarity, norm_ratings, n_users):\n",
    "    similarity_matrix = np.array([similarity(norm_ratings.iloc[i, :], norm_ratings.iloc[j, :])\n",
    "                             for i in range(n_users) for j in range(n_users)])\n",
    "    return similarity_matrix.reshape(n_users, n_users)\n",
    "\n",
    "\n",
    "# Visualize the similarity matrixes\n",
    "fig = plt.figure(figsize=(12, 5))\n",
    "\n",
    "for i, (name, sim_function) in enumerate(similarities.items()):\n",
    "    # Computing similarity matrix\n",
    "    similarity_matrix = compute_similarity_matrix(sim_function, norm_data, n_users)\n",
    "\n",
    "    # Plot the matrix\n",
    "    ax = fig.add_subplot(1, len(similarities), i+1)\n",
    "    cax = ax.matshow(similarity_matrix, cmap='plasma')\n",
    "    ax.set_title(f'{name.capitalize()} similarity matrix')\n",
    "    fig.colorbar(cax)\n",
    "plt.show()"
   ]
  },
  {
   "cell_type": "markdown",
   "metadata": {},
   "source": [
    "<div class='alert alert-warning'>\n",
    "    <b>Note:</b> The cosine similarity on centered vectors is equivalent to pearson's correlation. This is why we get the same similarity matrices for Pearson and Cosine after applying our normalization.\n",
    "</div>\n",
    "\n",
    "For our example, we will use **Pearson's correlation**."
   ]
  },
  {
   "cell_type": "code",
   "execution_count": 6,
   "metadata": {},
   "outputs": [],
   "source": [
    "similarity_name = 'pearson'\n",
    "sim_function = similarities[similarity_name]\n",
    "\n",
    "similarity_matrix = compute_similarity_matrix(similarity_pearson, norm_data, n_users)\n",
    "similarity_df = pd.DataFrame(similarity_matrix)"
   ]
  },
  {
   "cell_type": "markdown",
   "metadata": {},
   "source": [
    "### 1.1.4 -  Selecting the neighbours\n",
    "\n",
    "We need to select the nearest users from the user we want to recommend some items. There are different approaches.\n",
    "\n",
    "#### 1.1.4.1 - Threshold\n",
    "\n",
    "Among the users which have rated the item $i$, this method **selects the users whose similarity value is over a threshold $s_{\\text{min}}$**.\n",
    "\n",
    "$$N_{u, i} = \\{u' \\quad | \\quad s(u, u') > s_{\\text{min}}, \\quad u' \\in U_i\\}$$ with:\n",
    "\n",
    "- $N_{u,i}$  : Neighbours of the user $u$ which have rated the item $i$\n",
    "- $s(u, u')$  : Similarity between the users $u$ and $u'$\n",
    "- $s_{\\text{min}}$  : Threshold value of similarity\n",
    "- $U_{i}$  : Users which have rated the item $i$\n",
    "\n",
    "#### 1.1.4.2 - K-nearest neighbours\n",
    "\n",
    "Among the users which have rated the item $i$, this method **selects the K-most similar users to the user $u$**, according to the similarity function.\n",
    "\n",
    "$$N_{u, i} = \\{u' \\quad | \\quad s(u, u') \\geq M^K_{u,i}, \\quad u' \\in U_i\\}$$ with:\n",
    "\n",
    "- $N_{u,i}$  : Neighbours of the user $u$ which have rated the item $i$\n",
    "- $s(u, u')$  : Similarity between the users $u$ and $u'$\n",
    "- $M^k_{u,i}$ : The $K^{\\text{th}}$ highest value of $s(u,\\cdot)$ in $U_i$\n",
    "- $U_{i}$  : Users which have rated the item $i$\n"
   ]
  },
  {
   "cell_type": "code",
   "execution_count": 7,
   "metadata": {},
   "outputs": [],
   "source": [
    "def neighbours_threshold(similarity_df, rating_df, user_id, item, threshold=0.1):\n",
    "    # We select the indexes of the users whose rating is not null for the item\n",
    "    users_notnull = rating_df.index[rating_df[item].notnull()]\n",
    "    \n",
    "    # Similarities between these users and the user of interest\n",
    "    sim = similarity_df.iloc[users_notnull, user_id]\n",
    "    \n",
    "    # Return the users which similarity is over the threshold\n",
    "    return [sim.index[i] for i, v in enumerate(sim) if v>=threshold]"
   ]
  },
  {
   "cell_type": "markdown",
   "metadata": {},
   "source": [
    "In our example, we will predict the ratings on the user 2's unrated items. Let's get his neighbours."
   ]
  },
  {
   "cell_type": "code",
   "execution_count": 8,
   "metadata": {},
   "outputs": [
    {
     "data": {
      "text/html": [
       "<style  type=\"text/css\" >\n",
       "#T_189285ca_4dc5_11eb_b774_3af9d37f3df4row2_col0,#T_189285ca_4dc5_11eb_b774_3af9d37f3df4row2_col1,#T_189285ca_4dc5_11eb_b774_3af9d37f3df4row2_col2,#T_189285ca_4dc5_11eb_b774_3af9d37f3df4row2_col3,#T_189285ca_4dc5_11eb_b774_3af9d37f3df4row2_col8,#T_189285ca_4dc5_11eb_b774_3af9d37f3df4row2_col9{\n",
       "            background-color:  orange;\n",
       "        }</style><table id=\"T_189285ca_4dc5_11eb_b774_3af9d37f3df4\" ><thead>    <tr>        <th class=\"blank level0\" ></th>        <th class=\"col_heading level0 col0\" >joke_1</th>        <th class=\"col_heading level0 col1\" >joke_2</th>        <th class=\"col_heading level0 col2\" >joke_3</th>        <th class=\"col_heading level0 col3\" >joke_4</th>        <th class=\"col_heading level0 col4\" >joke_5</th>        <th class=\"col_heading level0 col5\" >joke_6</th>        <th class=\"col_heading level0 col6\" >joke_7</th>        <th class=\"col_heading level0 col7\" >joke_8</th>        <th class=\"col_heading level0 col8\" >joke_9</th>        <th class=\"col_heading level0 col9\" >joke_10</th>    </tr></thead><tbody>\n",
       "                <tr>\n",
       "                        <th id=\"T_189285ca_4dc5_11eb_b774_3af9d37f3df4level0_row0\" class=\"row_heading level0 row0\" >0</th>\n",
       "                        <td id=\"T_189285ca_4dc5_11eb_b774_3af9d37f3df4row0_col0\" class=\"data row0 col0\" >-7.820000</td>\n",
       "                        <td id=\"T_189285ca_4dc5_11eb_b774_3af9d37f3df4row0_col1\" class=\"data row0 col1\" >8.790000</td>\n",
       "                        <td id=\"T_189285ca_4dc5_11eb_b774_3af9d37f3df4row0_col2\" class=\"data row0 col2\" >-9.660000</td>\n",
       "                        <td id=\"T_189285ca_4dc5_11eb_b774_3af9d37f3df4row0_col3\" class=\"data row0 col3\" >-8.160000</td>\n",
       "                        <td id=\"T_189285ca_4dc5_11eb_b774_3af9d37f3df4row0_col4\" class=\"data row0 col4\" >-7.520000</td>\n",
       "                        <td id=\"T_189285ca_4dc5_11eb_b774_3af9d37f3df4row0_col5\" class=\"data row0 col5\" >-8.500000</td>\n",
       "                        <td id=\"T_189285ca_4dc5_11eb_b774_3af9d37f3df4row0_col6\" class=\"data row0 col6\" >-9.850000</td>\n",
       "                        <td id=\"T_189285ca_4dc5_11eb_b774_3af9d37f3df4row0_col7\" class=\"data row0 col7\" >4.170000</td>\n",
       "                        <td id=\"T_189285ca_4dc5_11eb_b774_3af9d37f3df4row0_col8\" class=\"data row0 col8\" >-8.980000</td>\n",
       "                        <td id=\"T_189285ca_4dc5_11eb_b774_3af9d37f3df4row0_col9\" class=\"data row0 col9\" >-4.760000</td>\n",
       "            </tr>\n",
       "            <tr>\n",
       "                        <th id=\"T_189285ca_4dc5_11eb_b774_3af9d37f3df4level0_row1\" class=\"row_heading level0 row1\" >1</th>\n",
       "                        <td id=\"T_189285ca_4dc5_11eb_b774_3af9d37f3df4row1_col0\" class=\"data row1 col0\" >4.080000</td>\n",
       "                        <td id=\"T_189285ca_4dc5_11eb_b774_3af9d37f3df4row1_col1\" class=\"data row1 col1\" >-0.290000</td>\n",
       "                        <td id=\"T_189285ca_4dc5_11eb_b774_3af9d37f3df4row1_col2\" class=\"data row1 col2\" >6.360000</td>\n",
       "                        <td id=\"T_189285ca_4dc5_11eb_b774_3af9d37f3df4row1_col3\" class=\"data row1 col3\" >4.370000</td>\n",
       "                        <td id=\"T_189285ca_4dc5_11eb_b774_3af9d37f3df4row1_col4\" class=\"data row1 col4\" >-2.380000</td>\n",
       "                        <td id=\"T_189285ca_4dc5_11eb_b774_3af9d37f3df4row1_col5\" class=\"data row1 col5\" >-9.660000</td>\n",
       "                        <td id=\"T_189285ca_4dc5_11eb_b774_3af9d37f3df4row1_col6\" class=\"data row1 col6\" >-0.730000</td>\n",
       "                        <td id=\"T_189285ca_4dc5_11eb_b774_3af9d37f3df4row1_col7\" class=\"data row1 col7\" >-5.340000</td>\n",
       "                        <td id=\"T_189285ca_4dc5_11eb_b774_3af9d37f3df4row1_col8\" class=\"data row1 col8\" >8.880000</td>\n",
       "                        <td id=\"T_189285ca_4dc5_11eb_b774_3af9d37f3df4row1_col9\" class=\"data row1 col9\" >9.220000</td>\n",
       "            </tr>\n",
       "            <tr>\n",
       "                        <th id=\"T_189285ca_4dc5_11eb_b774_3af9d37f3df4level0_row2\" class=\"row_heading level0 row2\" >2</th>\n",
       "                        <td id=\"T_189285ca_4dc5_11eb_b774_3af9d37f3df4row2_col0\" class=\"data row2 col0\" >nan</td>\n",
       "                        <td id=\"T_189285ca_4dc5_11eb_b774_3af9d37f3df4row2_col1\" class=\"data row2 col1\" >nan</td>\n",
       "                        <td id=\"T_189285ca_4dc5_11eb_b774_3af9d37f3df4row2_col2\" class=\"data row2 col2\" >nan</td>\n",
       "                        <td id=\"T_189285ca_4dc5_11eb_b774_3af9d37f3df4row2_col3\" class=\"data row2 col3\" >nan</td>\n",
       "                        <td id=\"T_189285ca_4dc5_11eb_b774_3af9d37f3df4row2_col4\" class=\"data row2 col4\" >9.030000</td>\n",
       "                        <td id=\"T_189285ca_4dc5_11eb_b774_3af9d37f3df4row2_col5\" class=\"data row2 col5\" >9.270000</td>\n",
       "                        <td id=\"T_189285ca_4dc5_11eb_b774_3af9d37f3df4row2_col6\" class=\"data row2 col6\" >9.030000</td>\n",
       "                        <td id=\"T_189285ca_4dc5_11eb_b774_3af9d37f3df4row2_col7\" class=\"data row2 col7\" >9.270000</td>\n",
       "                        <td id=\"T_189285ca_4dc5_11eb_b774_3af9d37f3df4row2_col8\" class=\"data row2 col8\" >nan</td>\n",
       "                        <td id=\"T_189285ca_4dc5_11eb_b774_3af9d37f3df4row2_col9\" class=\"data row2 col9\" >nan</td>\n",
       "            </tr>\n",
       "            <tr>\n",
       "                        <th id=\"T_189285ca_4dc5_11eb_b774_3af9d37f3df4level0_row3\" class=\"row_heading level0 row3\" >3</th>\n",
       "                        <td id=\"T_189285ca_4dc5_11eb_b774_3af9d37f3df4row3_col0\" class=\"data row3 col0\" >nan</td>\n",
       "                        <td id=\"T_189285ca_4dc5_11eb_b774_3af9d37f3df4row3_col1\" class=\"data row3 col1\" >8.350000</td>\n",
       "                        <td id=\"T_189285ca_4dc5_11eb_b774_3af9d37f3df4row3_col2\" class=\"data row3 col2\" >nan</td>\n",
       "                        <td id=\"T_189285ca_4dc5_11eb_b774_3af9d37f3df4row3_col3\" class=\"data row3 col3\" >nan</td>\n",
       "                        <td id=\"T_189285ca_4dc5_11eb_b774_3af9d37f3df4row3_col4\" class=\"data row3 col4\" >1.800000</td>\n",
       "                        <td id=\"T_189285ca_4dc5_11eb_b774_3af9d37f3df4row3_col5\" class=\"data row3 col5\" >8.160000</td>\n",
       "                        <td id=\"T_189285ca_4dc5_11eb_b774_3af9d37f3df4row3_col6\" class=\"data row3 col6\" >-2.820000</td>\n",
       "                        <td id=\"T_189285ca_4dc5_11eb_b774_3af9d37f3df4row3_col7\" class=\"data row3 col7\" >6.210000</td>\n",
       "                        <td id=\"T_189285ca_4dc5_11eb_b774_3af9d37f3df4row3_col8\" class=\"data row3 col8\" >nan</td>\n",
       "                        <td id=\"T_189285ca_4dc5_11eb_b774_3af9d37f3df4row3_col9\" class=\"data row3 col9\" >1.840000</td>\n",
       "            </tr>\n",
       "            <tr>\n",
       "                        <th id=\"T_189285ca_4dc5_11eb_b774_3af9d37f3df4level0_row4\" class=\"row_heading level0 row4\" >4</th>\n",
       "                        <td id=\"T_189285ca_4dc5_11eb_b774_3af9d37f3df4row4_col0\" class=\"data row4 col0\" >8.500000</td>\n",
       "                        <td id=\"T_189285ca_4dc5_11eb_b774_3af9d37f3df4row4_col1\" class=\"data row4 col1\" >4.610000</td>\n",
       "                        <td id=\"T_189285ca_4dc5_11eb_b774_3af9d37f3df4row4_col2\" class=\"data row4 col2\" >-4.170000</td>\n",
       "                        <td id=\"T_189285ca_4dc5_11eb_b774_3af9d37f3df4row4_col3\" class=\"data row4 col3\" >-5.390000</td>\n",
       "                        <td id=\"T_189285ca_4dc5_11eb_b774_3af9d37f3df4row4_col4\" class=\"data row4 col4\" >1.360000</td>\n",
       "                        <td id=\"T_189285ca_4dc5_11eb_b774_3af9d37f3df4row4_col5\" class=\"data row4 col5\" >1.600000</td>\n",
       "                        <td id=\"T_189285ca_4dc5_11eb_b774_3af9d37f3df4row4_col6\" class=\"data row4 col6\" >7.040000</td>\n",
       "                        <td id=\"T_189285ca_4dc5_11eb_b774_3af9d37f3df4row4_col7\" class=\"data row4 col7\" >4.610000</td>\n",
       "                        <td id=\"T_189285ca_4dc5_11eb_b774_3af9d37f3df4row4_col8\" class=\"data row4 col8\" >-0.440000</td>\n",
       "                        <td id=\"T_189285ca_4dc5_11eb_b774_3af9d37f3df4row4_col9\" class=\"data row4 col9\" >5.730000</td>\n",
       "            </tr>\n",
       "    </tbody></table>"
      ],
      "text/plain": [
       "<pandas.io.formats.style.Styler at 0x7ff64f6740a0>"
      ]
     },
     "metadata": {},
     "output_type": "display_data"
    },
    {
     "name": "stdout",
     "output_type": "stream",
     "text": [
      "Let's select the neighbours of the user_2 for each of his unpredicted items (nan):\n"
     ]
    },
    {
     "data": {
      "text/html": [
       "<div>\n",
       "<style scoped>\n",
       "    .dataframe tbody tr th:only-of-type {\n",
       "        vertical-align: middle;\n",
       "    }\n",
       "\n",
       "    .dataframe tbody tr th {\n",
       "        vertical-align: top;\n",
       "    }\n",
       "\n",
       "    .dataframe thead th {\n",
       "        text-align: right;\n",
       "    }\n",
       "</style>\n",
       "<table border=\"1\" class=\"dataframe\">\n",
       "  <thead>\n",
       "    <tr style=\"text-align: right;\">\n",
       "      <th></th>\n",
       "      <th>neighbours_user_2</th>\n",
       "    </tr>\n",
       "  </thead>\n",
       "  <tbody>\n",
       "    <tr>\n",
       "      <th>joke_1</th>\n",
       "      <td>[0, 5, 8]</td>\n",
       "    </tr>\n",
       "    <tr>\n",
       "      <th>joke_2</th>\n",
       "      <td>[0, 3, 5, 8]</td>\n",
       "    </tr>\n",
       "    <tr>\n",
       "      <th>joke_3</th>\n",
       "      <td>[0, 5, 8]</td>\n",
       "    </tr>\n",
       "    <tr>\n",
       "      <th>joke_4</th>\n",
       "      <td>[0, 5, 8]</td>\n",
       "    </tr>\n",
       "    <tr>\n",
       "      <th>joke_9</th>\n",
       "      <td>[0, 5, 8]</td>\n",
       "    </tr>\n",
       "    <tr>\n",
       "      <th>joke_10</th>\n",
       "      <td>[0, 3, 5, 8]</td>\n",
       "    </tr>\n",
       "  </tbody>\n",
       "</table>\n",
       "</div>"
      ],
      "text/plain": [
       "        neighbours_user_2\n",
       "joke_1          [0, 5, 8]\n",
       "joke_2       [0, 3, 5, 8]\n",
       "joke_3          [0, 5, 8]\n",
       "joke_4          [0, 5, 8]\n",
       "joke_9          [0, 5, 8]\n",
       "joke_10      [0, 3, 5, 8]"
      ]
     },
     "metadata": {},
     "output_type": "display_data"
    }
   ],
   "source": [
    "from IPython.display import display\n",
    "\n",
    "# We will do some predictions on the user 2\n",
    "user_id = 2\n",
    "\n",
    "# Highlight the nan values of the user 2 in the rating matrix\n",
    "display(data.loc[:4].style.highlight_null(null_color='orange', subset=pd.IndexSlice[user_id, :]))\n",
    "\n",
    "# We select the unpredicted items for the user 2\n",
    "recommendation_columns = data.iloc[user_id, :]\n",
    "recommendation_columns = recommendation_columns[recommendation_columns.isna()].index\n",
    "\n",
    "neighbours_df = pd.DataFrame(index=recommendation_columns, columns=[f'neighbours_user_{user_id}'])\n",
    "\n",
    "for i, item in enumerate(recommendation_columns):\n",
    "    neighbours_df.loc[item, f'neighbours_user_{user_id}'] = neighbours_threshold(similarity_df, data, user_id, item)\n",
    "\n",
    "print(f'Let\\'s select the neighbours of the user_{user_id} for each of his unpredicted items (nan):')\n",
    "display(neighbours_df)"
   ]
  },
  {
   "cell_type": "markdown",
   "metadata": {},
   "source": [
    "### 1.1.5 - Prediction of the ratings\n",
    "\n",
    "Now we will predict the ratings of the user 2 for all of his unrated items.\n",
    "\n",
    "$$p_{u,i} = \\bar{r}_u +\n",
    "            \\frac{\\sum_{u' \\in N_{u,i}} s(u,u')(r_{u',i}-\\bar{r}_{u'})}\n",
    "            {\\sum_{u' \\in N_{u,i}} |s(u,u')|}$$"
   ]
  },
  {
   "cell_type": "code",
   "execution_count": 9,
   "metadata": {},
   "outputs": [
    {
     "data": {
      "text/html": [
       "<div>\n",
       "<style scoped>\n",
       "    .dataframe tbody tr th:only-of-type {\n",
       "        vertical-align: middle;\n",
       "    }\n",
       "\n",
       "    .dataframe tbody tr th {\n",
       "        vertical-align: top;\n",
       "    }\n",
       "\n",
       "    .dataframe thead th {\n",
       "        text-align: right;\n",
       "    }\n",
       "</style>\n",
       "<table border=\"1\" class=\"dataframe\">\n",
       "  <thead>\n",
       "    <tr style=\"text-align: right;\">\n",
       "      <th></th>\n",
       "      <th>pred_user_2</th>\n",
       "    </tr>\n",
       "  </thead>\n",
       "  <tbody>\n",
       "    <tr>\n",
       "      <th>joke_1</th>\n",
       "      <td>8.079033</td>\n",
       "    </tr>\n",
       "    <tr>\n",
       "      <th>joke_2</th>\n",
       "      <td>14.038126</td>\n",
       "    </tr>\n",
       "    <tr>\n",
       "      <th>joke_3</th>\n",
       "      <td>9.497857</td>\n",
       "    </tr>\n",
       "    <tr>\n",
       "      <th>joke_4</th>\n",
       "      <td>6.173935</td>\n",
       "    </tr>\n",
       "    <tr>\n",
       "      <th>joke_9</th>\n",
       "      <td>6.612407</td>\n",
       "    </tr>\n",
       "    <tr>\n",
       "      <th>joke_10</th>\n",
       "      <td>9.742122</td>\n",
       "    </tr>\n",
       "  </tbody>\n",
       "</table>\n",
       "</div>"
      ],
      "text/plain": [
       "         pred_user_2\n",
       "joke_1      8.079033\n",
       "joke_2     14.038126\n",
       "joke_3      9.497857\n",
       "joke_4      6.173935\n",
       "joke_9      6.612407\n",
       "joke_10     9.742122"
      ]
     },
     "execution_count": 9,
     "metadata": {},
     "output_type": "execute_result"
    }
   ],
   "source": [
    "def score_item(user_id, neighbours_df, similarity_df, rating_df):\n",
    "    user_mean = np.mean(rating_df.iloc[user_id, :])\n",
    "    score = np.array([])\n",
    "\n",
    "    for item in neighbours_df.index:\n",
    "        nbs = neighbours_df.loc[item, f'neighbours_user_{user_id}']\n",
    "        nbs_similarity = similarity_df.loc[nbs, user_id]\n",
    "        nbs_norm_rating = rating_df.loc[nbs, item] - np.mean(rating_df, axis=1)[nbs]\n",
    "\n",
    "        score = np.append(score, np.dot(nbs_similarity, nbs_norm_rating) / \n",
    "                          np.sum(np.abs(nbs_similarity)) + user_mean)\n",
    "    \n",
    "    data = score.reshape(len(score), 1)\n",
    "    index = neighbours_df.index\n",
    "    return pd.DataFrame(data = data , columns = [f'pred_user_{user_id}'], index=index)\n",
    "\n",
    "predictions_df = score_item(user_id, neighbours_df, similarity_df, data)\n",
    "\n",
    "predictions_df"
   ]
  },
  {
   "cell_type": "markdown",
   "metadata": {},
   "source": [
    "We can then recommend the item with the highest score:"
   ]
  },
  {
   "cell_type": "code",
   "execution_count": 10,
   "metadata": {},
   "outputs": [
    {
     "name": "stdout",
     "output_type": "stream",
     "text": [
      "We recommend the user_2 to read the joke_2, which has a prediction score of 14.04 !\n"
     ]
    }
   ],
   "source": [
    "best_joke = predictions_df[f'pred_user_{user_id}'].idxmax()\n",
    "best_score = predictions_df.loc[best_joke, f'pred_user_{user_id}']\n",
    "\n",
    "print(f'We recommend the user_{user_id} to read the {best_joke}, ' +\n",
    "      f'which has a prediction score of {round(best_score, 2)} !')"
   ]
  },
  {
   "cell_type": "markdown",
   "metadata": {},
   "source": [
    "<div class='alert alert-warning'>\n",
    "    The prediction of the joke 2 is higher than 10 here (which is supposed to be the maximum rating value). This is because there is no bound constraint in our problem, and also because of the small amount of data used in our example (only 10 users for 10 jokes, with a rating mean for the user 2).\n",
    "</div>"
   ]
  },
  {
   "cell_type": "markdown",
   "metadata": {},
   "source": [
    "## 1.2 - Item-item filtering [[1]](#doc_01)\n",
    "\n",
    "### Principle:\n",
    "Item-item collaborative filtering is similar to user-user filtering: Rather than using similarities between users’ rating behavior to predict preferences, **item–item CF uses similarities between the rating patterns of items**. If two items tend to have the same users like and dislike them, then they are similar and users are expected to have similar preferences for similar items.\n",
    "\n",
    "<div class='alert alert-warning'>\n",
    "    We will not implement this method because it would be repetitive with the user-user filtering method.\n",
    "</div>"
   ]
  },
  {
   "attachments": {
    "image-2.png": {
     "image/png": "[encoded data removed]"
    }
   },
   "cell_type": "markdown",
   "metadata": {},
   "source": [
    "# 2 - Model based approach - matrix factorization (SVD)\n",
    "\n",
    "<h3><b><span style='color:red'>(Explanation of matrix factorization techniques)</span></b></h3>\n",
    "\n",
    "## 2.1 - SVD algorithm principle  [[1]](#doc_01) [[5]](#doc_01) [[6]](#doc_01)\n",
    "\n",
    "### 2.1.0 - Defining the Singular Value Decomposition \n",
    "\n",
    "For a matrix $M$, its SVD factorization is the factorization of M into three constituent matrices such that:\n",
    "\n",
    "$$M = U\\Sigma T^T$$ with:\n",
    "\n",
    "- $\\Sigma$ : A diagonal matrix whose values $\\sigma_i$ are the **singular values** of the decomposition\n",
    "- $U$ and $T$ are orthogonal\n",
    "\n",
    "### 2.1.1 - SVD in collaborative filtering\n",
    "\n",
    "If $M$ is the ratings matrix, $\\Sigma T^T$ transforms vectors from item-space into the intermediate vector space.\n",
    "\n",
    "- $U$ can be interpreted as the **user matrix** (size $|U|$ x $f$) which is composed of the **\"users preferences/features\"** coded in an intermediate vector space of dimension $f$ $\\leq \\text{min}(|U|, |I|)$.\n",
    "- $T$ can be interpreted as the **item matrix** (size $|I|$ x $f$) which is composed of the **\"items preferences/features\"** coded in an intermediate vector space of dimension $f$ $\\leq \\text{min}(|U|, |I|)$.\n",
    "\n",
    "So we have:\n",
    "\n",
    "$$ $$\n",
    "\n",
    "<div><img src='attachment:image-2.png' width=500/></div>\n",
    "\n",
    "### 2.1.2 - Computing the SVD algorithm\n",
    "\n",
    "#### 2.1.2.1 - Rating prediction matrix\n",
    "\n",
    "The $R$ matrix is a **sparse matrix** (each user only rated a few items). There are a lot of missing rating values, so we will try to **approximate the rating matrix** singular value decomposition with a **gradient descent algorithm**.  \n",
    "\n",
    "The $\\Sigma$ matrix is a diagonal matrix, so it has only a role of scaling in the SVD factorization. To simplify, we can compute our **rating prediction matrix**  $\\hat{R}$ so that:\n",
    "\n",
    "$$\\hat{r}_{u,i}=q_i^T p_u$$ with:\n",
    "\n",
    "- $q_i$ : The $i^{th}$ **item feature vector** (f x 1 vector)\n",
    "- $p_u$ : The $u^{th}$ **user feature vector** (f x 1 vector)\n",
    "\n",
    "\n",
    "#### 2.1.2.2 - Loss function\n",
    "\n",
    "Then on a training inference we can estimate the error with the **loss function**:\n",
    "\n",
    "$$loss=\\sum_{r_{u,i}\\in R_{train}} (r_{u,i} - \\hat{r}_{u,i})^2 + \\lambda (\\lVert q_i \\lVert^2 + \\lVert p_u \\lVert^2)$$ with:\n",
    "\n",
    "- $r_{u, i}$ : **True rating** of the user $u$ on the item $i$\n",
    "- $\\hat{r}_{u, i}$ : **Predicted rating** of the user $u$ on the item $i$\n",
    "- $\\lambda$ : The **regularization** term\n",
    "\n",
    "#### 2.1.2.3 - Gradient descent\n",
    "\n",
    "The minimization is performed by a very straightforward stochastic gradient descent:\n",
    "\n",
    "$$ p_u \\leftarrow p_u + \\gamma ((r_{u,i} - \\hat{r}_{u,i}) \\cdot q_i - \\lambda p_u)$$\n",
    "$$ q_i \\leftarrow q_i + \\gamma ((r_{u,i} - \\hat{r}_{u,i}) \\cdot p_u - \\lambda q_i)$$ with:\n",
    "\n",
    "- $\\gamma$ : The **learning rate**\n"
   ]
  },
  {
   "cell_type": "markdown",
   "metadata": {},
   "source": [
    "## 2.2 - Numpy implementation of the SVD algorithm\n",
    "\n",
    "### 2.2.0 - The MovieLens dataset\n",
    "\n",
    "We will be using the **MovieLens** (small) Dataset. <b><span style='color:red'>(Link here)</span></b>\n",
    "\n",
    "- It consists in **100,000 ratings** and 3,600 tag applications applied to **9,000 movies** by **600 users**.\n",
    "- Each rating lies **between 0.5 and 5.0**.\n",
    "\n",
    "### 2.2.1 - Import the dataset"
   ]
  },
  {
   "cell_type": "code",
   "execution_count": null,
   "metadata": {},
   "outputs": [],
   "source": []
  },
  {
   "cell_type": "code",
   "execution_count": 11,
   "metadata": {},
   "outputs": [
    {
     "data": {
      "text/html": [
       "<div>\n",
       "<style scoped>\n",
       "    .dataframe tbody tr th:only-of-type {\n",
       "        vertical-align: middle;\n",
       "    }\n",
       "\n",
       "    .dataframe tbody tr th {\n",
       "        vertical-align: top;\n",
       "    }\n",
       "\n",
       "    .dataframe thead th {\n",
       "        text-align: right;\n",
       "    }\n",
       "</style>\n",
       "<table border=\"1\" class=\"dataframe\">\n",
       "  <thead>\n",
       "    <tr style=\"text-align: right;\">\n",
       "      <th></th>\n",
       "      <th>userID</th>\n",
       "      <th>itemID</th>\n",
       "      <th>rating</th>\n",
       "    </tr>\n",
       "  </thead>\n",
       "  <tbody>\n",
       "    <tr>\n",
       "      <th>0</th>\n",
       "      <td>1</td>\n",
       "      <td>1</td>\n",
       "      <td>4.0</td>\n",
       "    </tr>\n",
       "    <tr>\n",
       "      <th>1</th>\n",
       "      <td>1</td>\n",
       "      <td>3</td>\n",
       "      <td>4.0</td>\n",
       "    </tr>\n",
       "    <tr>\n",
       "      <th>2</th>\n",
       "      <td>1</td>\n",
       "      <td>6</td>\n",
       "      <td>4.0</td>\n",
       "    </tr>\n",
       "    <tr>\n",
       "      <th>3</th>\n",
       "      <td>1</td>\n",
       "      <td>47</td>\n",
       "      <td>5.0</td>\n",
       "    </tr>\n",
       "    <tr>\n",
       "      <th>4</th>\n",
       "      <td>1</td>\n",
       "      <td>50</td>\n",
       "      <td>5.0</td>\n",
       "    </tr>\n",
       "  </tbody>\n",
       "</table>\n",
       "</div>"
      ],
      "text/plain": [
       "   userID  itemID  rating\n",
       "0       1       1     4.0\n",
       "1       1       3     4.0\n",
       "2       1       6     4.0\n",
       "3       1      47     5.0\n",
       "4       1      50     5.0"
      ]
     },
     "execution_count": 11,
     "metadata": {},
     "output_type": "execute_result"
    }
   ],
   "source": [
    "import os\n",
    "import pandas as pd\n",
    "\n",
    "dataset_dir_path = os.path.abspath('data/movielens_dataset')\n",
    "\n",
    "movies_df = pd.read_csv(os.path.join(dataset_dir_path, 'movies.csv'), index_col=0)\n",
    "ratings_df = pd.read_csv(os.path.join(dataset_dir_path, 'ratings.csv'))\n",
    "\n",
    "\n",
    "ratings_dict = {'userID': list(ratings_df.userId),\n",
    "                'itemID': list(ratings_df.movieId),\n",
    "                'rating': list(ratings_df.rating)}\n",
    "\n",
    "ratings_df = pd.DataFrame(ratings_dict)\n",
    "\n",
    "ratings_df.head()"
   ]
  },
  {
   "cell_type": "markdown",
   "metadata": {},
   "source": [
    "### 2.2.2 - Implementation of the algorithm"
   ]
  },
  {
   "cell_type": "code",
   "execution_count": 12,
   "metadata": {},
   "outputs": [],
   "source": [
    "import numpy as np\n",
    "from tqdm import tqdm\n",
    "\n",
    "class SVD_numpy:\n",
    "    \"\"\"\n",
    "    Numpy implementation of the SVD algorithm for CF\n",
    "    (Author: Yannick Prudent)\n",
    "    \"\"\"\n",
    "    def __init__(self, ratings_df, f=100):\n",
    "        # Store ratings\n",
    "        self.ratings_df = ratings_df\n",
    "        \n",
    "        self.userList = sorted(self.ratings_df['userID'].unique())\n",
    "        self.itemList = sorted(self.ratings_df['itemID'].unique())\n",
    "        n_u, n_i =  len(self.userList), len(self.itemList)\n",
    "        \n",
    "        self.item2indice = {i:self.itemList.index(int(i)) for i in self.itemList}\n",
    "        \n",
    "        self.n_samples = self.ratings_df.shape[0]\n",
    "        \n",
    "        # User x Item dataframe\n",
    "        self.ratings_ui_df = self.ratings_df.groupby(['userID', 'itemID'])['rating'].mean().unstack('itemID')\n",
    "\n",
    "        # Initialize the matrixes\n",
    "        self.U = np.random.randn(n_u, f)  # User matrix\n",
    "        self.V = np.random.randn(n_i, f)  # Item matrix\n",
    "\n",
    "    \n",
    "    def train(self, n_epochs=20, lr=0.005, lambda_=0.02):\n",
    "        losses = np.array([])\n",
    "        for epoch in range(1, n_epochs + 1):\n",
    "            loss, rmse = 0, 0\n",
    "            with tqdm(total=self.n_samples, desc=f'Epoch {epoch}') as pbar:\n",
    "                for idx in self.ratings_df.index:\n",
    "                    u, i, r = self.ratings_df.loc[idx]\n",
    "                    u = self.userList.index(int(u))\n",
    "                    i = self.item2indice[int(i)]  # A lot faster than self.userItem.index(int(u))\n",
    "\n",
    "                    err = r - np.dot(self.U[u,:], self.V[i,:])\n",
    "\n",
    "                    self.U[u, :] += lr * (err * self.V[i, :] - lambda_ * self.U[u, :])\n",
    "                    self.V[i, :] += lr * (err * self.U[u, :] - lambda_ * self.V[i, :])\n",
    "\n",
    "                    loss += err ** 2 + lambda_ * (np.linalg.norm(self.V[i, :])**2\n",
    "                                                + np.linalg.norm(self.U[u, :])**2)\n",
    "                    rmse += err ** 2\n",
    "                    \n",
    "                    if (idx%(self.n_samples//100) == 0) or (idx == self.n_samples - 1):\n",
    "                        loss_bar = loss.item()/max(1, idx)\n",
    "                        rmse_bar = np.sqrt(rmse/max(1, idx))\n",
    "                        pbar.set_postfix({'Loss':loss_bar, 'RMSE':rmse_bar})\n",
    "                        pbar.update(n=min(self.n_samples//100, self.n_samples - 1 - idx))\n",
    "            loss /= self.ratings_df.shape[0]\n",
    "            losses = np.append(losses, loss.item())\n",
    "        return losses\n",
    "    \n",
    "    \n",
    "    def predict(self, user_id, item_id):\n",
    "        u = self.userList.index(int(user_id))\n",
    "        i = self.itemList.index(int(item_id))\n",
    "        pred = np.dot(self.U[u, :], self.V[i, :])\n",
    "        return pred\n",
    "\n",
    "    \n",
    "    def predict_unrated_items(self, user_id):\n",
    "        user_ratings = self.ratings_ui_df.loc[user_id]\n",
    "        unrated_items = np.where(user_ratings.isnull())[0]\n",
    "        \n",
    "        u = self.userList.index(int(user_id))\n",
    "        # Prediction\n",
    "        ratings_user = np.dot(self.U[u, :], self.V[unrated_items, :].T)\n",
    "        \n",
    "        unrated_items_labels = user_ratings.index[np.where(user_ratings.isnull())[0]]\n",
    "\n",
    "        ratings_user_df = pd.DataFrame(ratings_user, columns=[f'user_{user_id}'], \n",
    "                                       index=unrated_items_labels)\n",
    "        return ratings_user_df\n"
   ]
  },
  {
   "cell_type": "markdown",
   "metadata": {},
   "source": [
    "### 2.2.4 - Training on the MovieLens dataset"
   ]
  },
  {
   "cell_type": "code",
   "execution_count": 13,
   "metadata": {},
   "outputs": [
    {
     "name": "stderr",
     "output_type": "stream",
     "text": [
      "Epoch 1: 100%|█████████▉| 100835/100836 [00:21<00:00, 4674.95it/s, Loss=20.3, RMSE=4.45]\n",
      "Epoch 2: 100%|█████████▉| 100835/100836 [00:22<00:00, 4563.32it/s, Loss=11.6, RMSE=3.34]\n",
      "Epoch 3: 100%|█████████▉| 100835/100836 [00:22<00:00, 4532.21it/s, Loss=7.07, RMSE=2.57]\n",
      "Epoch 4: 100%|█████████▉| 100835/100836 [00:22<00:00, 4466.40it/s, Loss=4.93, RMSE=2.12]\n",
      "Epoch 5: 100%|█████████▉| 100835/100836 [00:22<00:00, 4480.10it/s, Loss=3.87, RMSE=1.85]\n",
      "Epoch 6: 100%|█████████▉| 100835/100836 [00:22<00:00, 4455.56it/s, Loss=3.25, RMSE=1.67]\n",
      "Epoch 7: 100%|█████████▉| 100835/100836 [00:21<00:00, 4647.72it/s, Loss=2.83, RMSE=1.54]\n",
      "Epoch 8: 100%|█████████▉| 100835/100836 [00:22<00:00, 4532.12it/s, Loss=2.53, RMSE=1.45]\n",
      "Epoch 9: 100%|█████████▉| 100835/100836 [00:22<00:00, 4561.04it/s, Loss=2.3, RMSE=1.37] \n",
      "Epoch 10: 100%|█████████▉| 100835/100836 [00:22<00:00, 4461.52it/s, Loss=2.13, RMSE=1.3] \n",
      "Epoch 11: 100%|█████████▉| 100835/100836 [00:21<00:00, 4585.86it/s, Loss=1.99, RMSE=1.25]\n",
      "Epoch 12: 100%|█████████▉| 100835/100836 [00:22<00:00, 4560.93it/s, Loss=1.87, RMSE=1.2] \n",
      "Epoch 13: 100%|█████████▉| 100835/100836 [00:22<00:00, 4568.05it/s, Loss=1.77, RMSE=1.16]\n",
      "Epoch 14: 100%|█████████▉| 100835/100836 [00:22<00:00, 4528.93it/s, Loss=1.69, RMSE=1.12]\n",
      "Epoch 15: 100%|█████████▉| 100835/100836 [00:21<00:00, 4613.45it/s, Loss=1.61, RMSE=1.09]\n",
      "Epoch 16: 100%|█████████▉| 100835/100836 [00:22<00:00, 4514.68it/s, Loss=1.55, RMSE=1.06]\n",
      "Epoch 17: 100%|█████████▉| 100835/100836 [00:20<00:00, 4855.54it/s, Loss=1.5, RMSE=1.04] \n",
      "Epoch 18: 100%|█████████▉| 100835/100836 [00:20<00:00, 4849.20it/s, Loss=1.45, RMSE=1.01]\n",
      "Epoch 19: 100%|█████████▉| 100835/100836 [00:20<00:00, 4807.05it/s, Loss=1.4, RMSE=0.992] \n",
      "Epoch 20: 100%|█████████▉| 100835/100836 [00:20<00:00, 4849.61it/s, Loss=1.36, RMSE=0.972]\n",
      "Epoch 21: 100%|█████████▉| 100835/100836 [00:20<00:00, 4863.25it/s, Loss=1.33, RMSE=0.954]\n",
      "Epoch 22: 100%|█████████▉| 100835/100836 [00:20<00:00, 4856.22it/s, Loss=1.3, RMSE=0.938] \n",
      "Epoch 23: 100%|█████████▉| 100835/100836 [00:20<00:00, 4876.29it/s, Loss=1.27, RMSE=0.923]\n",
      "Epoch 24: 100%|█████████▉| 100835/100836 [00:45<00:00, 2202.86it/s, Loss=1.24, RMSE=0.909]\n",
      "Epoch 25: 100%|█████████▉| 100835/100836 [00:21<00:00, 4768.77it/s, Loss=1.22, RMSE=0.896]\n",
      "Epoch 26: 100%|█████████▉| 100835/100836 [00:20<00:00, 4906.11it/s, Loss=1.19, RMSE=0.884]\n",
      "Epoch 27: 100%|█████████▉| 100835/100836 [00:22<00:00, 4416.73it/s, Loss=1.17, RMSE=0.873]\n",
      "Epoch 28: 100%|█████████▉| 100835/100836 [00:20<00:00, 4803.02it/s, Loss=1.15, RMSE=0.863]\n",
      "Epoch 29: 100%|█████████▉| 100835/100836 [00:20<00:00, 4951.91it/s, Loss=1.14, RMSE=0.853]\n",
      "Epoch 30: 100%|█████████▉| 100835/100836 [00:20<00:00, 4814.44it/s, Loss=1.12, RMSE=0.844]\n"
     ]
    }
   ],
   "source": [
    "np.random.seed(1234)\n",
    "\n",
    "# Run training on 30 epochs\n",
    "svd = SVD_numpy(ratings_df, f=20)\n",
    "losses = svd.train(n_epochs=30)"
   ]
  },
  {
   "cell_type": "markdown",
   "metadata": {},
   "source": [
    "### 2.2.5 - Predictions"
   ]
  },
  {
   "cell_type": "code",
   "execution_count": 14,
   "metadata": {},
   "outputs": [
    {
     "name": "stdout",
     "output_type": "stream",
     "text": [
      "Some of user_1's favorite movies:\n"
     ]
    },
    {
     "data": {
      "text/html": [
       "<div>\n",
       "<style scoped>\n",
       "    .dataframe tbody tr th:only-of-type {\n",
       "        vertical-align: middle;\n",
       "    }\n",
       "\n",
       "    .dataframe tbody tr th {\n",
       "        vertical-align: top;\n",
       "    }\n",
       "\n",
       "    .dataframe thead th {\n",
       "        text-align: right;\n",
       "    }\n",
       "</style>\n",
       "<table border=\"1\" class=\"dataframe\">\n",
       "  <thead>\n",
       "    <tr style=\"text-align: right;\">\n",
       "      <th></th>\n",
       "      <th>title</th>\n",
       "      <th>genres</th>\n",
       "    </tr>\n",
       "    <tr>\n",
       "      <th>itemID</th>\n",
       "      <th></th>\n",
       "      <th></th>\n",
       "    </tr>\n",
       "  </thead>\n",
       "  <tbody>\n",
       "    <tr>\n",
       "      <th>5060</th>\n",
       "      <td>M*A*S*H (a.k.a. MASH) (1970)</td>\n",
       "      <td>Comedy|Drama|War</td>\n",
       "    </tr>\n",
       "    <tr>\n",
       "      <th>1278</th>\n",
       "      <td>Young Frankenstein (1974)</td>\n",
       "      <td>Comedy|Fantasy</td>\n",
       "    </tr>\n",
       "    <tr>\n",
       "      <th>1617</th>\n",
       "      <td>L.A. Confidential (1997)</td>\n",
       "      <td>Crime|Film-Noir|Mystery|Thriller</td>\n",
       "    </tr>\n",
       "    <tr>\n",
       "      <th>1587</th>\n",
       "      <td>Conan the Barbarian (1982)</td>\n",
       "      <td>Action|Adventure|Fantasy</td>\n",
       "    </tr>\n",
       "    <tr>\n",
       "      <th>1573</th>\n",
       "      <td>Face/Off (1997)</td>\n",
       "      <td>Action|Crime|Drama|Thriller</td>\n",
       "    </tr>\n",
       "  </tbody>\n",
       "</table>\n",
       "</div>"
      ],
      "text/plain": [
       "                               title                            genres\n",
       "itemID                                                                \n",
       "5060    M*A*S*H (a.k.a. MASH) (1970)                  Comedy|Drama|War\n",
       "1278       Young Frankenstein (1974)                    Comedy|Fantasy\n",
       "1617        L.A. Confidential (1997)  Crime|Film-Noir|Mystery|Thriller\n",
       "1587      Conan the Barbarian (1982)          Action|Adventure|Fantasy\n",
       "1573                 Face/Off (1997)       Action|Crime|Drama|Thriller"
      ]
     },
     "metadata": {},
     "output_type": "display_data"
    },
    {
     "name": "stdout",
     "output_type": "stream",
     "text": [
      "We recommend the user_1 to see \"Dragon Ball: The Curse Of The Blood Rubies (Doragon bôru: Shenron no densetsu) (1986)\", which is a \"action|adventure|animation|children\" movie !\n"
     ]
    }
   ],
   "source": [
    "user_id = 1\n",
    "\n",
    "# User's favorite movies\n",
    "print(f'Some of user_{user_id}\\'s favorite movies:')\n",
    "ratings_user = svd.ratings_ui_df.loc[user_id].sort_values(ascending=False)\n",
    "fav_movies = movies_df.loc[ratings_user.iloc[:5].index]\n",
    "display(fav_movies)\n",
    "\n",
    "predict_user = svd.predict_unrated_items(user_id)\n",
    "best_movie_idx = predict_user.iloc[:, 0].idxmax()\n",
    "best_movie = movies_df.loc[best_movie_idx]\n",
    "\n",
    "print(f'We recommend the user_{user_id} to see \"{best_movie.title}\", which is a \"{best_movie.genres.lower()}\" movie !')"
   ]
  },
  {
   "cell_type": "markdown",
   "metadata": {},
   "source": [
    "## 2.3 - Scikit-surprise library [[4]](#doc_04) [[5]](#doc_04)\n",
    "\n",
    "The **scikit-surprise** package has been specially developed to make recommendation based on collaborative filtering easy. It has default implementation for a variety of CF algorithms. [See the documentation here](https://surprise.readthedocs.io/en/v1.1.1/).\n",
    "\n",
    "### 2.3.1 - Load dataset in scikit-surprise\n",
    "\n",
    "We will re-use the movie Dataset of MovieLens that we used [in the numpy part 2.2](#2.2.0---The-MovieLens-dataset)."
   ]
  },
  {
   "cell_type": "code",
   "execution_count": 17,
   "metadata": {},
   "outputs": [],
   "source": [
    "from surprise import Reader, Dataset\n",
    "\n",
    "# A reader is still needed but only the rating_scale param is required.\n",
    "# The Reader class is used to parse a file containing ratings.\n",
    "reader = Reader(rating_scale=(0.5, 5.0))\n",
    "\n",
    "# The columns must correspond to user id, item id and ratings (in that order).\n",
    "data = Dataset.load_from_df(ratings_df[['userID', 'itemID', 'rating']], reader)"
   ]
  },
  {
   "cell_type": "markdown",
   "metadata": {},
   "source": [
    "### 2.3.2 - A few algorithms for CF\n",
    "\n",
    "#### 2.3.2.1 - SVD"
   ]
  },
  {
   "cell_type": "code",
   "execution_count": 18,
   "metadata": {},
   "outputs": [
    {
     "name": "stdout",
     "output_type": "stream",
     "text": [
      "Evaluating RMSE, MAE of algorithm SVD on 5 split(s).\n",
      "\n",
      "                  Fold 1  Fold 2  Fold 3  Fold 4  Fold 5  Mean    Std     \n",
      "RMSE (testset)    0.9793  0.9866  0.9719  0.9910  0.9845  0.9826  0.0066  \n",
      "MAE (testset)     0.7539  0.7573  0.7485  0.7608  0.7562  0.7553  0.0041  \n",
      "Fit time          4.74    4.74    4.72    4.75    4.85    4.76    0.05    \n",
      "Test time         0.30    0.09    0.16    0.10    0.10    0.15    0.08    \n"
     ]
    }
   ],
   "source": [
    "from surprise import SVD\n",
    "from surprise.model_selection import cross_validate\n",
    "\n",
    "# svd\n",
    "algo = SVD(biased=False)\n",
    "results = cross_validate(algo, data, measures=['RMSE', 'MAE'], cv=5, verbose=True)"
   ]
  },
  {
   "cell_type": "markdown",
   "metadata": {},
   "source": [
    "#### 2.3.2.2 - SVD++\n"
   ]
  },
  {
   "cell_type": "code",
   "execution_count": 21,
   "metadata": {},
   "outputs": [
    {
     "name": "stdout",
     "output_type": "stream",
     "text": [
      "Evaluating RMSE, MAE of algorithm SVDpp on 5 split(s).\n",
      "\n",
      "                  Fold 1  Fold 2  Fold 3  Fold 4  Fold 5  Mean    Std     \n",
      "RMSE (testset)    0.8634  0.8520  0.8579  0.8558  0.8693  0.8597  0.0060  \n",
      "MAE (testset)     0.6616  0.6544  0.6574  0.6587  0.6624  0.6589  0.0029  \n",
      "Fit time          522.41  540.34  10998.79500.95  3898.39 3292.18 4069.27 \n",
      "Test time         9.09    8.55    7.55    8.22    7.90    8.26    0.53    \n"
     ]
    }
   ],
   "source": [
    "from surprise import SVDpp\n",
    "\n",
    "# nmf\n",
    "algo = SVDpp()\n",
    "results = cross_validate(algo, data, measures=['RMSE', 'MAE'], cv=5, verbose=True)"
   ]
  },
  {
   "cell_type": "markdown",
   "metadata": {},
   "source": [
    "#### 2.3.2.3 - NMF"
   ]
  },
  {
   "cell_type": "code",
   "execution_count": 19,
   "metadata": {},
   "outputs": [
    {
     "name": "stdout",
     "output_type": "stream",
     "text": [
      "Evaluating RMSE, MAE of algorithm NMF on 5 split(s).\n",
      "\n",
      "                  Fold 1  Fold 2  Fold 3  Fold 4  Fold 5  Mean    Std     \n",
      "RMSE (testset)    0.9327  0.9153  0.9208  0.9268  0.9171  0.9226  0.0064  \n",
      "MAE (testset)     0.7107  0.7011  0.7054  0.7109  0.7041  0.7065  0.0038  \n",
      "Fit time          5.88    5.96    5.92    5.86    5.85    5.90    0.04    \n",
      "Test time         0.17    0.10    0.09    0.17    0.10    0.12    0.04    \n"
     ]
    }
   ],
   "source": [
    "from surprise import NMF\n",
    "\n",
    "# nmf\n",
    "algo = NMF()\n",
    "results = cross_validate(algo, data, measures=['RMSE', 'MAE'], cv=5, verbose=True)"
   ]
  },
  {
   "cell_type": "markdown",
   "metadata": {},
   "source": [
    "# Conclusion\n",
    "\n",
    "<h3><b><span style='color:red'>(Add conclusion)</span></b></h3>"
   ]
  },
  {
   "cell_type": "code",
   "execution_count": 34,
   "metadata": {},
   "outputs": [
    {
     "data": {
      "text/plain": [
       "array([[<AxesSubplot:title={'center':'user_1'}>]], dtype=object)"
      ]
     },
     "execution_count": 34,
     "metadata": {},
     "output_type": "execute_result"
    },
    {
     "data": {
      "image/png": "[encoded data removed]",
      "text/plain": [
       "<Figure size 432x288 with 1 Axes>"
      ]
     },
     "metadata": {
      "needs_background": "light"
     },
     "output_type": "display_data"
    }
   ],
   "source": [
    "predict_user.hist(bins=10)"
   ]
  },
  {
   "cell_type": "code",
   "execution_count": 26,
   "metadata": {},
   "outputs": [
    {
     "data": {
      "text/plain": [
       "<AxesSubplot:xlabel='itemID'>"
      ]
     },
     "execution_count": 26,
     "metadata": {},
     "output_type": "execute_result"
    },
    {
     "data": {
      "image/png": "[encoded data removed]",
      "text/plain": [
       "<Figure size 432x288 with 1 Axes>"
      ]
     },
     "metadata": {
      "needs_background": "light"
     },
     "output_type": "display_data"
    }
   ],
   "source": [
    "predict_user.plot(marker='o', linewidth=0, markersize=1)"
   ]
  }
 ],
 "metadata": {
  "kernelspec": {
   "display_name": "Python 3",
   "language": "python",
   "name": "python3"
  },
  "language_info": {
   "codemirror_mode": {
    "name": "ipython",
    "version": 3
   },
   "file_extension": ".py",
   "mimetype": "text/x-python",
   "name": "python",
   "nbconvert_exporter": "python",
   "pygments_lexer": "ipython3",
   "version": "3.8.5"
  }
 },
 "nbformat": 4,
 "nbformat_minor": 4
}
